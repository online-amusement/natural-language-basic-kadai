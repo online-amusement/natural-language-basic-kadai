{
  "nbformat": 4,
  "nbformat_minor": 0,
  "metadata": {
    "colab": {
      "provenance": []
    },
    "kernelspec": {
      "name": "python3",
      "display_name": "Python 3"
    },
    "language_info": {
      "name": "python"
    }
  },
  "cells": [
    {
      "cell_type": "code",
      "execution_count": 4,
      "metadata": {
        "colab": {
          "base_uri": "https://localhost:8080/"
        },
        "id": "0TScl4wmrdAn",
        "outputId": "24681858-2a9a-4af9-8b0b-aeab6d2799c4"
      },
      "outputs": [
        {
          "output_type": "stream",
          "name": "stdout",
          "text": [
            "['近頃', '大分', '方々', '雑誌', '談話', 'しろ', 'しろ', '責め', '、', '頭', 'がらん胴', '、', '当分', '品切れ', '看板', '懸け', 'くらい']\n"
          ]
        },
        {
          "output_type": "stream",
          "name": "stderr",
          "text": [
            "/tmp/ipython-input-438348302.py:7: XMLParsedAsHTMLWarning: It looks like you're using an HTML parser to parse an XML document.\n",
            "\n",
            "Assuming this really is an XML document, what you're doing might work, but you should know that using an XML parser will be more reliable. To parse this document as XML, make sure you have the Python package 'lxml' installed, and pass the keyword argument `features=\"xml\"` into the BeautifulSoup constructor.\n",
            "\n",
            "If you want or need to use an HTML parser on this document, you can make this warning go away by filtering it. To do that, run this code before calling the BeautifulSoup constructor:\n",
            "\n",
            "    from bs4 import XMLParsedAsHTMLWarning\n",
            "    import warnings\n",
            "\n",
            "    warnings.filterwarnings(\"ignore\", category=XMLParsedAsHTMLWarning)\n",
            "\n",
            "  soup = BeautifulSoup(res)\n"
          ]
        }
      ],
      "source": [
        "import re\n",
        "from bs4 import BeautifulSoup\n",
        "from urllib import request\n",
        "\n",
        "url = \"https://www.aozora.gr.jp/cards/000148/files/2371_13943.html\"\n",
        "res = request.urlopen(url)\n",
        "soup = BeautifulSoup(res)\n",
        "res.close()\n",
        "main_text = soup.find(\"div\", class_='main_text')\n",
        "#tag_dele = main_text.find_all([\"rb\", \"rp\"])\n",
        "#for tag in tag_dele:\n",
        "  #tag.decompose()\n",
        "#print(main_text)\n",
        "main_text = main_text.get_text()\n",
        "#print(main_text)\n",
        "result_text_list = list()\n",
        "words = [\"近頃\",\"は\",\"大分\",\"方々\",\"の\",\"雑誌\",\"から\",\"談話\",\"を\",\"しろ\",\"しろ\",\"と\",\"責め\",\"られ\",\"て\",\"、\",\"頭\",\"が\",\"がらん胴\",\"に\",\"なっ\",\"た\",\"から\",\"、\",\"当分\",\"品切れ\",\"の\",\"看板\",\"でも\",\"懸け\",\"たい\",\"くらい\",\"に\",\"思っ\",\"て\",\"い\",\"ます\",\"。\"]\n",
        "stopwords = [\"は\", \"の\", \"を\", \"が\", \"に\", \"と\", \"て\", \"い\", \"た\", \"ます\", \"から\", \"でも\", \"られ\", \"なっ\", \"たい\", \"思っ\", \"。\"]\n",
        "result_words = [word for word in words if word not in stopwords]\n",
        "print(result_words)\n"
      ]
    },
    {
      "cell_type": "code",
      "source": [],
      "metadata": {
        "id": "XA5j2VgZrePs"
      },
      "execution_count": null,
      "outputs": []
    }
  ]
}